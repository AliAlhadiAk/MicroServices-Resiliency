{
 "cells": [
  {
   "cell_type": "code",
   "execution_count": null,
   "metadata": {},
   "outputs": [],
   "source": [
    "using Polly;\n",
    "using System;\n",
    "using System.Net;\n",
    "using System.Threading.Tasks;\n",
    "using RestSharp;\n",
    "\n",
    "public class RetryPolicyExample\n",
    "{\n",
    "    private static readonly AsyncRetryPolicy<RestResponse> RetryPolicy = Policy\n",
    "        .HandleResult<RestResponse>(resp => \n",
    "            resp.StatusCode == HttpStatusCode.TooManyRequests || \n",
    "            (int)resp.StatusCode >= 500\n",
    "        )\n",
    "        .WaitAndRetryAsync(\n",
    "            retryCount: 4, \n",
    "            sleepDurationProvider: retryAttempt => TimeSpan.FromSeconds(5 + retryAttempt),\n",
    "            onRetry: (response, timespan, retryCount, context) =>\n",
    "            {\n",
    "                Console.WriteLine($\"Retry {retryCount} after {timespan.TotalSeconds} seconds due to: {response.Result.StatusCode}\");\n",
    "            }\n",
    "        );\n",
    "\n",
    "    public static async Task RunRetryPolicyAsync()\n",
    "    {\n",
    "        var client = new RestClient(\"https://api.example.com/resource\");\n",
    "        var request = new RestRequest();\n",
    "\n",
    "        var response = await RetryPolicy.ExecuteAsync(async () =>\n",
    "        {\n",
    "            return await client.ExecuteAsync(request);\n",
    "        });\n",
    "\n",
    "        Console.WriteLine($\"Final response status code: {response.StatusCode}\");\n",
    "    }\n",
    "}\n",
    "\n",
    "await RetryPolicyExample.RunRetryPolicyAsync();\n"
   ]
  }
 ],
 "metadata": {
  "language_info": {
   "name": "python"
  }
 },
 "nbformat": 4,
 "nbformat_minor": 2
}
